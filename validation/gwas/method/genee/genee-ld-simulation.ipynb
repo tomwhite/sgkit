{
 "cells": [
  {
   "cell_type": "markdown",
   "id": "954e2419",
   "metadata": {},
   "source": [
    "# Simulating LD matrices for gene set association analysis with gene-e\n",
    "\n",
    "See https://github.com/pystatgen/sgkit/issues/692"
   ]
  },
  {
   "cell_type": "code",
   "execution_count": 1,
   "id": "40dd17d0",
   "metadata": {},
   "outputs": [
    {
     "name": "stdout",
     "output_type": "stream",
     "text": [
      "projects/452178172058/machineTypes/e2-standard-32"
     ]
    }
   ],
   "source": [
    "! wget -q -O - --header Metadata-Flavor:Google metadata/computeMetadata/v1/instance/machine-type"
   ]
  },
  {
   "cell_type": "code",
   "execution_count": 2,
   "id": "f18a1089",
   "metadata": {},
   "outputs": [],
   "source": [
    "import time\n",
    "import numpy as np\n",
    "import pandas as pd\n",
    "\n",
    "import matplotlib.pyplot as plt\n",
    "import seaborn as sns\n",
    "%matplotlib inline\n",
    "\n",
    "from scipy.sparse import csc_matrix, diags\n",
    "\n",
    "from sklearn.linear_model import ElasticNet, LinearRegression"
   ]
  },
  {
   "cell_type": "code",
   "execution_count": 3,
   "id": "a79daa1e",
   "metadata": {},
   "outputs": [],
   "source": [
    "def random_banded_ld_matrix(n, d):\n",
    "    \"\"\"Create a banded square n x n symmetric CSC matrix, where d diagnonals above and below\n",
    "    the main diagonal have random values in [-1, 1], and where the main diagonal contains ones.\"\"\"\n",
    "    band = np.random.uniform(-1, 1, (d, n))\n",
    "    diagonals = np.empty((2 * d + 1, n), dtype=band.dtype)\n",
    "    diagonals[0] = 1\n",
    "    diagonals[1:d+1] = band\n",
    "    diagonals[d+1:2*d+1] = band\n",
    "    offsets = np.concatenate((np.arange(d+1), np.arange(-1, -d-1, step=-1)))\n",
    "    m = diags(diagonals, offsets)\n",
    "    m = m.tocsc()\n",
    "    return m"
   ]
  },
  {
   "cell_type": "markdown",
   "id": "324e65bd",
   "metadata": {},
   "source": [
    "Example 8x8 matrix with d=2"
   ]
  },
  {
   "cell_type": "code",
   "execution_count": 4,
   "id": "df21768c",
   "metadata": {},
   "outputs": [
    {
     "data": {
      "text/plain": [
       "matrix([[ 1.00000000e+00, -1.46881806e-01,  3.71338084e-01,\n",
       "          0.00000000e+00,  0.00000000e+00,  0.00000000e+00,\n",
       "          0.00000000e+00,  0.00000000e+00],\n",
       "        [-1.46881806e-01,  1.00000000e+00, -5.84151888e-01,\n",
       "         -5.47049948e-01,  0.00000000e+00,  0.00000000e+00,\n",
       "          0.00000000e+00,  0.00000000e+00],\n",
       "        [ 3.71338084e-01, -5.84151888e-01,  1.00000000e+00,\n",
       "         -9.99903069e-01,  3.03512712e-01,  0.00000000e+00,\n",
       "          0.00000000e+00,  0.00000000e+00],\n",
       "        [ 0.00000000e+00, -5.47049948e-01, -9.99903069e-01,\n",
       "          1.00000000e+00,  7.78814566e-01, -6.07053118e-01,\n",
       "          0.00000000e+00,  0.00000000e+00],\n",
       "        [ 0.00000000e+00,  0.00000000e+00,  3.03512712e-01,\n",
       "          7.78814566e-01,  1.00000000e+00,  6.16291015e-04,\n",
       "          2.01166869e-01,  0.00000000e+00],\n",
       "        [ 0.00000000e+00,  0.00000000e+00,  0.00000000e+00,\n",
       "         -6.07053118e-01,  6.16291015e-04,  1.00000000e+00,\n",
       "         -9.07153265e-01,  9.71470247e-01],\n",
       "        [ 0.00000000e+00,  0.00000000e+00,  0.00000000e+00,\n",
       "          0.00000000e+00,  2.01166869e-01, -9.07153265e-01,\n",
       "          1.00000000e+00, -4.87690642e-01],\n",
       "        [ 0.00000000e+00,  0.00000000e+00,  0.00000000e+00,\n",
       "          0.00000000e+00,  0.00000000e+00,  9.71470247e-01,\n",
       "         -4.87690642e-01,  1.00000000e+00]])"
      ]
     },
     "execution_count": 4,
     "metadata": {},
     "output_type": "execute_result"
    }
   ],
   "source": [
    "X = random_banded_ld_matrix(8, 2)\n",
    "X.todense()"
   ]
  },
  {
   "cell_type": "markdown",
   "id": "ec4328d4",
   "metadata": {},
   "source": [
    "This shows the banding structure a bit more clearly:"
   ]
  },
  {
   "cell_type": "code",
   "execution_count": 5,
   "id": "c4277a3f",
   "metadata": {},
   "outputs": [
    {
     "data": {
      "text/plain": [
       "matrix([[ True,  True,  True, False, False, False, False, False],\n",
       "        [ True,  True,  True,  True, False, False, False, False],\n",
       "        [ True,  True,  True,  True,  True, False, False, False],\n",
       "        [False,  True,  True,  True,  True,  True, False, False],\n",
       "        [False, False,  True,  True,  True,  True,  True, False],\n",
       "        [False, False, False,  True,  True,  True,  True,  True],\n",
       "        [False, False, False, False,  True,  True,  True,  True],\n",
       "        [False, False, False, False, False,  True,  True,  True]])"
      ]
     },
     "execution_count": 5,
     "metadata": {},
     "output_type": "execute_result"
    }
   ],
   "source": [
    "X.todense() != 0.0"
   ]
  },
  {
   "cell_type": "markdown",
   "id": "5228871b",
   "metadata": {},
   "source": [
    "Let's simulate some LD matrices of size _n_ x _n_. The sparsity used is based on [\"50 variants in a 100 Kbp window\"](https://github.com/pystatgen/sgkit/issues/692#issuecomment-964005351), i.e. 50/100,000 = 0.0005.\n",
    "\n",
    "Note that a real LD matrix will not have a dense band like this, it will be sparse across a wider band. But the number of entries will be the same as the simulations here, so hopefully the results are broadly representative."
   ]
  },
  {
   "cell_type": "code",
   "execution_count": 6,
   "id": "4d2f6235",
   "metadata": {},
   "outputs": [],
   "source": [
    "def simulate_matrices(n, sparsity=0.0005):\n",
    "    d = max(1, int(n * sparsity))\n",
    "    X = random_banded_ld_matrix(n, d)\n",
    "    b = np.random.normal(size=n) * np.sqrt(n)\n",
    "    y = b.T @ X + np.random.normal(size=n) # add some random noise\n",
    "    return X, y"
   ]
  },
  {
   "cell_type": "markdown",
   "id": "35e01114",
   "metadata": {},
   "source": [
    "This shows the top corner of such a matrix:"
   ]
  },
  {
   "cell_type": "code",
   "execution_count": 7,
   "id": "777f57e6",
   "metadata": {
    "scrolled": true
   },
   "outputs": [
    {
     "data": {
      "text/plain": [
       "matrix([[1.        , 0.29885411, 0.        , 0.        , 0.        ],\n",
       "        [0.29885411, 1.        , 0.32338819, 0.        , 0.        ],\n",
       "        [0.        , 0.32338819, 1.        , 0.46002736, 0.        ],\n",
       "        [0.        , 0.        , 0.46002736, 1.        , 0.43331556],\n",
       "        [0.        , 0.        , 0.        , 0.43331556, 1.        ]])"
      ]
     },
     "execution_count": 7,
     "metadata": {},
     "output_type": "execute_result"
    }
   ],
   "source": [
    "simulate_matrices(1000)[0].todense()[:5,:5]"
   ]
  },
  {
   "cell_type": "markdown",
   "id": "c4e91235",
   "metadata": {},
   "source": [
    "Time how long it takes to simulate different size LD matrices, and also how long it takes to run a regression on each of them."
   ]
  },
  {
   "cell_type": "code",
   "execution_count": 8,
   "id": "b390a4c2",
   "metadata": {},
   "outputs": [],
   "source": [
    "def sparse_nbytes(m):\n",
    "    return m.data.nbytes + m.indptr.nbytes + m.indices.nbytes\n",
    "\n",
    "def sizeof_fmt(num, suffix=\"B\"):\n",
    "    for unit in [\"\", \"Ki\", \"Mi\", \"Gi\", \"Ti\", \"Pi\", \"Ei\", \"Zi\"]:\n",
    "        if abs(num) < 1024.0:\n",
    "            return f\"{num:3.1f}{unit}{suffix}\"\n",
    "        num /= 1024.0\n",
    "    return f\"{num:.1f}Yi{suffix}\""
   ]
  },
  {
   "cell_type": "code",
   "execution_count": 9,
   "id": "7ba37c84",
   "metadata": {},
   "outputs": [],
   "source": [
    "def run_regression(X, y):\n",
    "    regr = ElasticNet(alpha=1, l1_ratio=0.5, fit_intercept=False, random_state=0)\n",
    "    regr.fit(X=X, y=y)\n",
    "    return regr"
   ]
  },
  {
   "cell_type": "code",
   "execution_count": 10,
   "id": "0dc89aa7",
   "metadata": {},
   "outputs": [
    {
     "name": "stdout",
     "output_type": "stream",
     "text": [
      "10000, 1.3MiB, 1, 0.01s, 0.01s, 0\n",
      "20000, 4.9MiB, 1, 0.03s, 0.00s, 0\n",
      "50000, 29.4MiB, 2, 0.10s, 0.03s, 4\n",
      "100000, 115.9MiB, 3, 0.35s, 0.11s, 164\n",
      "200000, 460.7MiB, 3, 1.20s, 0.39s, 4100\n",
      "500000, 2.8GiB, 3, 7.47s, 2.59s, 68554\n",
      "1000000, 11.2GiB, 3, 38.14s, 11.08s, 290350\n"
     ]
    },
    {
     "data": {
      "text/html": [
       "<div>\n",
       "<style scoped>\n",
       "    .dataframe tbody tr th:only-of-type {\n",
       "        vertical-align: middle;\n",
       "    }\n",
       "\n",
       "    .dataframe tbody tr th {\n",
       "        vertical-align: top;\n",
       "    }\n",
       "\n",
       "    .dataframe thead th {\n",
       "        text-align: right;\n",
       "    }\n",
       "</style>\n",
       "<table border=\"1\" class=\"dataframe\">\n",
       "  <thead>\n",
       "    <tr style=\"text-align: right;\">\n",
       "      <th></th>\n",
       "      <th>n</th>\n",
       "      <th>bytes</th>\n",
       "      <th>n_iter</th>\n",
       "      <th>t_cons</th>\n",
       "      <th>t_regr</th>\n",
       "      <th>non_zero_coeffs</th>\n",
       "    </tr>\n",
       "  </thead>\n",
       "  <tbody>\n",
       "    <tr>\n",
       "      <th>0</th>\n",
       "      <td>10000</td>\n",
       "      <td>1359644</td>\n",
       "      <td>1</td>\n",
       "      <td>0.006450</td>\n",
       "      <td>0.010694</td>\n",
       "      <td>0</td>\n",
       "    </tr>\n",
       "    <tr>\n",
       "      <th>1</th>\n",
       "      <td>20000</td>\n",
       "      <td>5118684</td>\n",
       "      <td>1</td>\n",
       "      <td>0.025132</td>\n",
       "      <td>0.004715</td>\n",
       "      <td>0</td>\n",
       "    </tr>\n",
       "    <tr>\n",
       "      <th>2</th>\n",
       "      <td>50000</td>\n",
       "      <td>30792204</td>\n",
       "      <td>2</td>\n",
       "      <td>0.098272</td>\n",
       "      <td>0.026275</td>\n",
       "      <td>4</td>\n",
       "    </tr>\n",
       "    <tr>\n",
       "      <th>3</th>\n",
       "      <td>100000</td>\n",
       "      <td>121569404</td>\n",
       "      <td>3</td>\n",
       "      <td>0.349929</td>\n",
       "      <td>0.107214</td>\n",
       "      <td>164</td>\n",
       "    </tr>\n",
       "    <tr>\n",
       "      <th>4</th>\n",
       "      <td>200000</td>\n",
       "      <td>483078804</td>\n",
       "      <td>3</td>\n",
       "      <td>1.202346</td>\n",
       "      <td>0.391462</td>\n",
       "      <td>4100</td>\n",
       "    </tr>\n",
       "    <tr>\n",
       "      <th>5</th>\n",
       "      <td>500000</td>\n",
       "      <td>3007247004</td>\n",
       "      <td>3</td>\n",
       "      <td>7.469673</td>\n",
       "      <td>2.587718</td>\n",
       "      <td>68554</td>\n",
       "    </tr>\n",
       "    <tr>\n",
       "      <th>6</th>\n",
       "      <td>1000000</td>\n",
       "      <td>12012994004</td>\n",
       "      <td>3</td>\n",
       "      <td>38.135117</td>\n",
       "      <td>11.081271</td>\n",
       "      <td>290350</td>\n",
       "    </tr>\n",
       "  </tbody>\n",
       "</table>\n",
       "</div>"
      ],
      "text/plain": [
       "         n        bytes  n_iter     t_cons     t_regr  non_zero_coeffs\n",
       "0    10000      1359644       1   0.006450   0.010694                0\n",
       "1    20000      5118684       1   0.025132   0.004715                0\n",
       "2    50000     30792204       2   0.098272   0.026275                4\n",
       "3   100000    121569404       3   0.349929   0.107214              164\n",
       "4   200000    483078804       3   1.202346   0.391462             4100\n",
       "5   500000   3007247004       3   7.469673   2.587718            68554\n",
       "6  1000000  12012994004       3  38.135117  11.081271           290350"
      ]
     },
     "execution_count": 10,
     "metadata": {},
     "output_type": "execute_result"
    }
   ],
   "source": [
    "d = []\n",
    "for n in (10000, 20000, 50000, 100000, 200000, 500000, 1000000):\n",
    "    t0 = time.time()\n",
    "    X, y = simulate_matrices(n)\n",
    "    t1 = time.time()\n",
    "    regr = run_regression(X, y)\n",
    "    t2 = time.time()\n",
    "    t_cons = t1 - t0\n",
    "    t_regr = t2 - t1\n",
    "    non_zero_coeffs = np.sum(regr.coef_ != 0)\n",
    "    \n",
    "    print(f\"{n}, {sizeof_fmt(sparse_nbytes(X))}, {regr.n_iter_}, {t_cons:.2f}s, {t_regr:.2f}s, {non_zero_coeffs}\")\n",
    "    d.append(dict(n=n, bytes=sparse_nbytes(X), n_iter=regr.n_iter_, t_cons=t_cons, t_regr=t_regr, non_zero_coeffs=non_zero_coeffs))\n",
    "df = pd.DataFrame(d)\n",
    "df"
   ]
  },
  {
   "cell_type": "markdown",
   "id": "b2b24a1a",
   "metadata": {},
   "source": [
    "The time grows quadratically, as might be expected since the number of nonzero entries in the LD matrix is _n_ x _n_ x _sparsity_."
   ]
  },
  {
   "cell_type": "code",
   "execution_count": 11,
   "id": "1d45fe0d",
   "metadata": {},
   "outputs": [
    {
     "data": {
      "text/plain": [
       "array([1.67281962])"
      ]
     },
     "execution_count": 11,
     "metadata": {},
     "output_type": "execute_result"
    }
   ],
   "source": [
    "reg = LinearRegression()\n",
    "reg.fit(np.log(df[['n']]), np.log(df['t_regr']))\n",
    "reg.coef_"
   ]
  },
  {
   "cell_type": "code",
   "execution_count": 12,
   "id": "e13a8d30",
   "metadata": {},
   "outputs": [
    {
     "data": {
      "image/png": "[encoded data removed]",
      "text/plain": [
       "<Figure size 432x288 with 1 Axes>"
      ]
     },
     "metadata": {
      "needs_background": "light"
     },
     "output_type": "display_data"
    }
   ],
   "source": [
    "splot = sns.regplot(x=\"n\", y=\"t_regr\", data=df, fit_reg=False)\n",
    "splot.set(xscale=\"log\", yscale=\"log\");"
   ]
  },
  {
   "cell_type": "markdown",
   "id": "34676c18",
   "metadata": {},
   "source": [
    "So 1M variants with the sparsity shown above is feasible.\n",
    "\n",
    "For 7M variants (number of variants in 1000 genomes, chr2), the memory needed would be:\n"
   ]
  },
  {
   "cell_type": "code",
   "execution_count": 13,
   "id": "634c131e",
   "metadata": {},
   "outputs": [
    {
     "name": "stderr",
     "output_type": "stream",
     "text": [
      "/home/tom/miniconda/lib/python3.9/site-packages/sklearn/base.py:445: UserWarning: X does not have valid feature names, but LinearRegression was fitted with feature names\n",
      "  warnings.warn(\n"
     ]
    },
    {
     "data": {
      "text/plain": [
       "'512.1GiB'"
      ]
     },
     "execution_count": 13,
     "metadata": {},
     "output_type": "execute_result"
    }
   ],
   "source": [
    "reg = LinearRegression()\n",
    "reg.fit(np.log(df[['n']]), np.log(df['bytes']))\n",
    "mem = np.exp(reg.predict(np.log([[7000000]]))).item()\n",
    "sizeof_fmt(mem)"
   ]
  },
  {
   "cell_type": "markdown",
   "id": "d4fcff28",
   "metadata": {},
   "source": [
    "And the regression would take about:"
   ]
  },
  {
   "cell_type": "code",
   "execution_count": 14,
   "id": "6ac178a4",
   "metadata": {},
   "outputs": [
    {
     "name": "stderr",
     "output_type": "stream",
     "text": [
      "/home/tom/miniconda/lib/python3.9/site-packages/sklearn/base.py:445: UserWarning: X does not have valid feature names, but LinearRegression was fitted with feature names\n",
      "  warnings.warn(\n"
     ]
    },
    {
     "data": {
      "text/plain": [
       "'181s'"
      ]
     },
     "execution_count": 14,
     "metadata": {},
     "output_type": "execute_result"
    }
   ],
   "source": [
    "reg = LinearRegression()\n",
    "reg.fit(np.log(df[['n']]), np.log(df['t_regr']))\n",
    "t = np.exp(reg.predict(np.log([[7000000]]))).item()\n",
    "f\"{t:.0f}s\""
   ]
  },
  {
   "cell_type": "markdown",
   "id": "3feeff13",
   "metadata": {},
   "source": [
    "Of course, datasets with more samples will have more variants (although the sparsity will presumably not change), so the memory and time will grow accordingly."
   ]
  },
  {
   "cell_type": "code",
   "execution_count": null,
   "id": "b0427640",
   "metadata": {},
   "outputs": [],
   "source": []
  }
 ],
 "metadata": {
  "kernelspec": {
   "display_name": "Python 3 (ipykernel)",
   "language": "python",
   "name": "python3"
  },
  "language_info": {
   "codemirror_mode": {
    "name": "ipython",
    "version": 3
   },
   "file_extension": ".py",
   "mimetype": "text/x-python",
   "name": "python",
   "nbconvert_exporter": "python",
   "pygments_lexer": "ipython3",
   "version": "3.9.5"
  }
 },
 "nbformat": 4,
 "nbformat_minor": 5
}
